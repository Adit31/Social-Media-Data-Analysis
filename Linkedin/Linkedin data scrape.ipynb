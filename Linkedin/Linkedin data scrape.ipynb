{
 "cells": [
  {
   "cell_type": "code",
   "execution_count": 1,
   "metadata": {},
   "outputs": [],
   "source": [
    "from selenium import webdriver\n",
    "from time import sleep\n",
    "import json\n",
    "import re\n",
    "from random import randint"
   ]
  },
  {
   "cell_type": "code",
   "execution_count": 2,
   "metadata": {},
   "outputs": [],
   "source": [
    "import bs4\n",
    "from urllib.request import urlopen as uReq\n",
    "from bs4 import BeautifulSoup as soup"
   ]
  },
  {
   "cell_type": "code",
   "execution_count": 1,
   "metadata": {},
   "outputs": [
    {
     "ename": "NameError",
     "evalue": "name 'webdriver' is not defined",
     "output_type": "error",
     "traceback": [
      "\u001b[1;31m---------------------------------------------------------------------------\u001b[0m",
      "\u001b[1;31mNameError\u001b[0m                                 Traceback (most recent call last)",
      "\u001b[1;32m<ipython-input-1-8b30f4cf40df>\u001b[0m in \u001b[0;36m<module>\u001b[1;34m\u001b[0m\n\u001b[1;32m----> 1\u001b[1;33m \u001b[0mdriver\u001b[0m \u001b[1;33m=\u001b[0m \u001b[0mwebdriver\u001b[0m\u001b[1;33m.\u001b[0m\u001b[0mChrome\u001b[0m\u001b[1;33m(\u001b[0m\u001b[1;34m'C:\\\\Users\\\\aditg\\\\Downloads\\\\chromedriver_win32\\\\chromedriver.exe'\u001b[0m\u001b[1;33m)\u001b[0m\u001b[1;33m\u001b[0m\u001b[1;33m\u001b[0m\u001b[0m\n\u001b[0m\u001b[0;32m      2\u001b[0m \u001b[1;33m\u001b[0m\u001b[0m\n\u001b[0;32m      3\u001b[0m \u001b[0mdriver\u001b[0m\u001b[1;33m.\u001b[0m\u001b[0mget\u001b[0m\u001b[1;33m(\u001b[0m\u001b[1;34m'https://www.linkedin.com'\u001b[0m\u001b[1;33m)\u001b[0m\u001b[1;33m\u001b[0m\u001b[1;33m\u001b[0m\u001b[0m\n\u001b[0;32m      4\u001b[0m \u001b[0msleep\u001b[0m\u001b[1;33m(\u001b[0m\u001b[1;36m3\u001b[0m\u001b[1;33m)\u001b[0m\u001b[1;33m\u001b[0m\u001b[1;33m\u001b[0m\u001b[0m\n\u001b[0;32m      5\u001b[0m \u001b[1;33m\u001b[0m\u001b[0m\n",
      "\u001b[1;31mNameError\u001b[0m: name 'webdriver' is not defined"
     ]
    }
   ],
   "source": [
    "driver = webdriver.Chrome('C:\\\\Users\\\\aditg\\\\Downloads\\\\chromedriver_win32\\\\chromedriver.exe')\n",
    "\n",
    "driver.get('https://www.linkedin.com')\n",
    "sleep(3)\n",
    "\n",
    "username = driver.find_element_by_name('session_key')\n",
    "username.send_keys('aditgoyal@hotmail.com')\n",
    "sleep(1)\n",
    "\n",
    "password = driver.find_element_by_name('session_password')\n",
    "password.send_keys('your password')\n",
    "sleep(1)\n",
    "\n",
    "#sign_button = driver.find_element_by_class_name('signin-form__submit-btn')\n",
    "#sign_button.click()\n",
    "#sleep(randint(8,10))"
   ]
  },
  {
   "cell_type": "code",
   "execution_count": 20,
   "metadata": {},
   "outputs": [
    {
     "name": "stdout",
     "output_type": "stream",
     "text": [
      "['adit-goyal']\n",
      "[]\n",
      "<ul class=\"pv-top-card--experience-list\">\n",
      "<!-- -->\n",
      "<li>\n",
      "<a class=\"pv-top-card--experience-list-item\" data-control-name=\"education_see_more\" data-ember-action=\"\" data-ember-action-102=\"102\" href=\"#\">\n",
      "<img class=\"EntityPhoto-square-1 flex-shrink-zero ember-view\" id=\"ember103\" src=\"https://media-exp1.licdn.com/dms/image/C510BAQFpR8qejjH3Yg/company-logo_100_100/0?e=1608768000&amp;v=beta&amp;t=73SqOFtONhA6NyR8EwnfuAzb0-K4RrZ9IWZsDOv9rPY\"/>\n",
      "<span class=\"text-align-left ml2 t-14 t-black t-bold full-width lt-line-clamp lt-line-clamp--multi-line ember-view\" id=\"ember104\" style=\"-webkit-line-clamp: 2\">  Jaypee Institute Of Information Technology\n",
      "\n",
      "<!-- --></span>\n",
      "</a>\n",
      "</li>\n",
      "</ul>\n"
     ]
    }
   ],
   "source": [
    "from selenium.webdriver.common.keys import Keys\n",
    "driver.get('https:www.google.com')\n",
    "sleep(randint(2,4))\n",
    "search_query = driver.find_element_by_name('q')\n",
    "sleep(randint(1,2))\n",
    "\n",
    "search_query.send_keys('site:linkedin.com/in ' + 'Adit Goyal')\n",
    "search_query.send_keys(Keys.ENTER)\n",
    "sleep(randint(1,2))\n",
    "\n",
    "linkedin_urls = driver.find_elements_by_class_name('iUh30')\n",
    "href_name = []\n",
    "\n",
    "linkedin_urls = [url.text for url in linkedin_urls]\n",
    "link = linkedin_urls[0].split('›',1)[1]\n",
    "link = link.replace(' ','')\n",
    "href_name.append(link)\n",
    "print(href_name)\n",
    "sleep(randint(3,7))\n",
    "\n",
    "driver.get('https://www.linkedin.com/in/'+ href_name[0])\n",
    "\n",
    "page_html = driver.page_source\n",
    "page_soup = soup(page_html, \"html.parser\")\n",
    "function = page_soup.findAll(\"h2\",{\"class\":\"mt1 t-18 t-black t-normal\"})\n",
    "comp = page_soup.find(\"ul\",{\"class\":\"pv-top-card--experience-list\"})\n",
    "print(function)\n",
    "print(comp)\n",
    "\n",
    "driver.quit()"
   ]
  },
  {
   "cell_type": "code",
   "execution_count": 28,
   "metadata": {},
   "outputs": [
    {
     "ename": "SyntaxError",
     "evalue": "unexpected EOF while parsing (<ipython-input-28-23a2644bff2d>, line 3)",
     "output_type": "error",
     "traceback": [
      "\u001b[1;36m  File \u001b[1;32m\"<ipython-input-28-23a2644bff2d>\"\u001b[1;36m, line \u001b[1;32m3\u001b[0m\n\u001b[1;33m    else:\u001b[0m\n\u001b[1;37m         ^\u001b[0m\n\u001b[1;31mSyntaxError\u001b[0m\u001b[1;31m:\u001b[0m unexpected EOF while parsing\n"
     ]
    }
   ],
   "source": [
    "if len(linkedin_urls)==0:\n",
    "        href_name.append('Could not retrieve lkdn account for this author')\n",
    "else:"
   ]
  },
  {
   "cell_type": "code",
   "execution_count": null,
   "metadata": {},
   "outputs": [],
   "source": []
  }
 ],
 "metadata": {
  "kernelspec": {
   "display_name": "Python 3",
   "language": "python",
   "name": "python3"
  },
  "language_info": {
   "codemirror_mode": {
    "name": "ipython",
    "version": 3
   },
   "file_extension": ".py",
   "mimetype": "text/x-python",
   "name": "python",
   "nbconvert_exporter": "python",
   "pygments_lexer": "ipython3",
   "version": "3.7.9"
  }
 },
 "nbformat": 4,
 "nbformat_minor": 4
}
