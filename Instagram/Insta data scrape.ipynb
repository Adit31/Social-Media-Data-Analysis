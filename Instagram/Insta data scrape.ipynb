{
 "cells": [
  {
   "cell_type": "code",
   "execution_count": 1,
   "metadata": {},
   "outputs": [],
   "source": [
    "from selenium import webdriver\n",
    "from bs4 import BeautifulSoup as bs\n",
    "import time\n",
    "import re\n",
    "from urllib.request import urlopen\n",
    "import json\n",
    "from pandas.io.json import json_normalize\n",
    "import pandas as pd, numpy as np"
   ]
  },
  {
   "cell_type": "code",
   "execution_count": 7,
   "metadata": {},
   "outputs": [],
   "source": [
    "hashtag_list = ['TravellingThroughTheWorld', 'TravelIsLife', 'TravelWithMe', 'TravelCouple']\n",
    "for hashtag in hashtag_list:\n",
    "    browser = webdriver.Chrome('C:\\\\Users\\\\aditg\\\\Downloads\\\\chromedriver_win32\\\\chromedriver')\n",
    "    browser.get('https://www.instagram.com/explore/tags/'+hashtag)\n",
    "    Pagelength = browser.execute_script(\"window.scrollTo(0, document.body.scrollHeight);\")\n",
    "    links=[]\n",
    "    source = browser.page_source\n",
    "    data=bs(source, 'html.parser')\n",
    "    body = data.find('body')\n",
    "    script = body.find('script', text=lambda t: t.startswith('window._sharedData'))\n",
    "    links=[]\n",
    "    source = browser.page_source\n",
    "    data=bs(source, 'html.parser')\n",
    "    body = data.find('body')\n",
    "    script = body.find('script', text=lambda t: t.startswith('window._sharedData'))\n",
    "    page_json = script.string.split(' = ', 1)[1].rstrip(';')\n",
    "    data = json.loads(page_json)\n",
    "    for link in data['entry_data']['TagPage'][0]['graphql']['hashtag']['edge_hashtag_to_media']['edges']:\n",
    "        links.append('https://www.instagram.com'+'/p/'+link['node']['shortcode']+'/')\n",
    "    result=pd.DataFrame()\n",
    "    for i in range(len(links)):\n",
    "     try:\n",
    "         page = urlopen(links[i]).read()\n",
    "         data=bs(page, 'html.parser')\n",
    "         body = data.find('body')\n",
    "         script = body.find('script')\n",
    "         raw = script.text.strip().replace('window._sharedData =', '').replace(';', '')\n",
    "         json_data=json.loads(raw)\n",
    "         posts =json_data['entry_data']['PostPage'][0]['graphql']\n",
    "         posts= json.dumps(posts)\n",
    "         posts = json.loads(posts)\n",
    "         x = pd.DataFrame.from_dict(json_normalize(posts), orient='columns') \n",
    "         x.columns = x.columns.str.replace(\"shortcode_media.\", \"\")\n",
    "         result=result.append(x)\n",
    "     except:\n",
    "         np.nan\n",
    "    result = result.drop_duplicates(subset = 'shortcode')\n",
    "    result.index = range(len(result.index))\n",
    "    result.to_csv('C:\\\\Users\\\\aditg\\\\Documents\\\\Projects\\\\Social Media Data Analysis\\Instagram\\\\insta_data1.csv', mode = 'a', header = False)"
   ]
  },
  {
   "cell_type": "code",
   "execution_count": null,
   "metadata": {},
   "outputs": [],
   "source": [
    " #WorldTraveler #MyTravelStory #WanderingSoul #TravelMoments #JustTravel #Globetrotter #NextDestination #LetsTravel #HappyTraveller #TravelTips #TheBestDestinations #TravelInspiration #TravelJunkie #WorldExplorer"
   ]
  },
  {
   "cell_type": "code",
   "execution_count": null,
   "metadata": {},
   "outputs": [],
   "source": [
    " 'memes', 'instagram', 'india', 'indonesia', 'follow', 'coronamemes', 'instagood', 'tiktok', 'art'"
   ]
  }
 ],
 "metadata": {
  "kernelspec": {
   "display_name": "Python 3",
   "language": "python",
   "name": "python3"
  },
  "language_info": {
   "codemirror_mode": {
    "name": "ipython",
    "version": 3
   },
   "file_extension": ".py",
   "mimetype": "text/x-python",
   "name": "python",
   "nbconvert_exporter": "python",
   "pygments_lexer": "ipython3",
   "version": "3.7.9"
  }
 },
 "nbformat": 4,
 "nbformat_minor": 4
}
